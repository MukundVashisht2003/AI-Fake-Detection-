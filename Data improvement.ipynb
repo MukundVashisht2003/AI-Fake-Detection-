{
 "cells": [
  {
   "cell_type": "markdown",
   "metadata": {},
   "source": [
    "### this will minimize the size of the dataset into 1.42GB from 14 GB which is (10%)"
   ]
  },
  {
   "cell_type": "code",
   "execution_count": 3,
   "metadata": {},
   "outputs": [
    {
     "name": "stdout",
     "output_type": "stream",
     "text": [
      "Sampled dataset created successfully.\n"
     ]
    }
   ],
   "source": [
    "import os\n",
    "import random\n",
    "import shutil\n",
    "\n",
    "# Path to the original dataset containing 'real' and 'fakeV2/fake-v2' folders\n",
    "base_path = r\"C:\\Users\\mukun\\Desktop\\BE Project\\ai-generated-image-detect-EfficientNetB4\\Dataset\\train\"\n",
    "\n",
    "# Destination directory to save the sampled dataset\n",
    "destination_path = r\"C:\\Users\\mukun\\Desktop\\BE Project\\ai-generated-image-detect-EfficientNetB4\\DatasetSampled\"\n",
    "\n",
    "#we will only use 10% of the entire dataset\n",
    "data_percentage = 10\n",
    "\n",
    "# Function to recursively find image files in a directory\n",
    "def find_image_files(directory):\n",
    "    image_paths = []\n",
    "    for root, dirs, files in os.walk(directory):\n",
    "        for file in files:\n",
    "            # Check for image file formats\n",
    "            if file.lower().endswith((\".jpg\", \".jpeg\", \".png\")):\n",
    "                image_paths.append(os.path.join(root, file))\n",
    "    return image_paths\n",
    "\n",
    "# Create destination directory if it doesn't exist\n",
    "os.makedirs(destination_path, exist_ok=True)\n",
    "\n",
    "# Sampled dataset structure: 'real' and 'fake' folders within the destination directory\n",
    "real_destination = os.path.join(destination_path, \"real\")\n",
    "fake_destination = os.path.join(destination_path, \"fake\")\n",
    "\n",
    "os.makedirs(real_destination, exist_ok=True)  # Create 'real' folder\n",
    "os.makedirs(fake_destination, exist_ok=True)  # Create 'fake' folder\n",
    "\n",
    "# Define paths to original 'real' and 'fake' folders\n",
    "real_path = os.path.join(base_path, \"real\")\n",
    "fake_path = os.path.join(base_path, \"fake\")\n",
    "\n",
    "# Find all image files in the 'real' and 'fake' folders\n",
    "real_image_paths = find_image_files(real_path)\n",
    "fake_image_paths = find_image_files(fake_path)\n",
    "\n",
    "# Determine the number of samples to keep for each class\n",
    "num_samples_to_keep = min(len(real_image_paths), len(fake_image_paths))\n",
    "\n",
    "# Randomly sample a subset of fake images to match the number of real images\n",
    "sampled_fake_image_paths = random.sample(fake_image_paths, num_samples_to_keep)\n",
    "\n",
    "# Copy sampled real images to the destination 'real' folder\n",
    "for image_path in real_image_paths:\n",
    "    shutil.copy(image_path, real_destination)\n",
    "\n",
    "# Copy sampled fake images to the destination 'fake' folder\n",
    "for image_path in sampled_fake_image_paths:\n",
    "    shutil.copy(image_path, fake_destination)\n",
    "\n",
    "print(\"Sampled dataset created successfully.\")\n"
   ]
  }
 ],
 "metadata": {
  "kernelspec": {
   "display_name": "venv",
   "language": "python",
   "name": "python3"
  },
  "language_info": {
   "codemirror_mode": {
    "name": "ipython",
    "version": 3
   },
   "file_extension": ".py",
   "mimetype": "text/x-python",
   "name": "python",
   "nbconvert_exporter": "python",
   "pygments_lexer": "ipython3",
   "version": "3.10.4"
  }
 },
 "nbformat": 4,
 "nbformat_minor": 2
}
